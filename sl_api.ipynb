{
 "cells": [
  {
   "cell_type": "code",
   "execution_count": null,
   "id": "e3ecc374-76a3-40aa-89ed-003f738d7bff",
   "metadata": {},
   "outputs": [],
   "source": [
    "# API endpoint\n",
    "url = \"https://lfv.soccerlab.com/APIRest/v0.2/\""
   ]
  },
  {
   "cell_type": "code",
   "execution_count": null,
   "metadata": {},
   "outputs": [
    {
     "name": "stdout",
     "output_type": "stream",
     "text": [
      "https://lfv.soccerlab.com/APIRest/v0.2/\n"
     ]
    }
   ],
   "source": [
    "print(url)"
   ]
  },
  {
   "cell_type": "code",
   "execution_count": null,
   "id": "85324a2e-95a6-425a-8367-1268efc29323",
   "metadata": {},
   "outputs": [],
   "source": [
    "# Your login credentials (replace these with your actual username and password)\n",
    "authentication = ('SL_Consultant','S!6biYWe9q5KN*t^^ZE@')\n",
    "\n",
    "# --- Query Parameters ---\n",
    "params = {\n",
    "    \"start_date\": \"2024-07-01\",\n",
    "    \"end_date\": \"2025-06-30\"\n",
    "}\n",
    "\n",
    "# --- Headers ---\n",
    "headers = {\n",
    "    \"Accept\": \"application/json\"\n",
    "}\n",
    "\n",
    "response = requests.get(url, auth=authentication, headers = headers, params = params)"
   ]
  }
 ],
 "metadata": {
  "kernelspec": {
   "display_name": "Python 3",
   "language": "python",
   "name": "python3"
  },
  "language_info": {
   "codemirror_mode": {
    "name": "ipython",
    "version": 3
   },
   "file_extension": ".py",
   "mimetype": "text/x-python",
   "name": "python",
   "nbconvert_exporter": "python",
   "pygments_lexer": "ipython3",
   "version": "3.11.5"
  }
 },
 "nbformat": 4,
 "nbformat_minor": 2
}
